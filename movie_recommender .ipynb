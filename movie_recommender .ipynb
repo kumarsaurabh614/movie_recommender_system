{
 "cells": [
  {
   "cell_type": "code",
   "execution_count": 1,
   "metadata": {},
   "outputs": [],
   "source": [
    "import numpy as np \n",
    "import pandas as pd\n"
   ]
  },
  {
   "cell_type": "code",
   "execution_count": 56,
   "metadata": {},
   "outputs": [],
   "source": [
    "column_names = ['user_id', 'item_id', 'rating', 'timestamp']\n",
    "df = pd.read_csv('u.data', sep='\\t', names=column_names)"
   ]
  },
  {
   "cell_type": "code",
   "execution_count": 57,
   "metadata": {},
   "outputs": [
    {
     "data": {
      "text/html": [
       "<div>\n",
       "<style scoped>\n",
       "    .dataframe tbody tr th:only-of-type {\n",
       "        vertical-align: middle;\n",
       "    }\n",
       "\n",
       "    .dataframe tbody tr th {\n",
       "        vertical-align: top;\n",
       "    }\n",
       "\n",
       "    .dataframe thead th {\n",
       "        text-align: right;\n",
       "    }\n",
       "</style>\n",
       "<table border=\"1\" class=\"dataframe\">\n",
       "  <thead>\n",
       "    <tr style=\"text-align: right;\">\n",
       "      <th></th>\n",
       "      <th>item_id</th>\n",
       "      <th>title</th>\n",
       "    </tr>\n",
       "  </thead>\n",
       "  <tbody>\n",
       "    <tr>\n",
       "      <th>0</th>\n",
       "      <td>1</td>\n",
       "      <td>Toy Story (1995)</td>\n",
       "    </tr>\n",
       "    <tr>\n",
       "      <th>1</th>\n",
       "      <td>2</td>\n",
       "      <td>GoldenEye (1995)</td>\n",
       "    </tr>\n",
       "    <tr>\n",
       "      <th>2</th>\n",
       "      <td>3</td>\n",
       "      <td>Four Rooms (1995)</td>\n",
       "    </tr>\n",
       "    <tr>\n",
       "      <th>3</th>\n",
       "      <td>4</td>\n",
       "      <td>Get Shorty (1995)</td>\n",
       "    </tr>\n",
       "    <tr>\n",
       "      <th>4</th>\n",
       "      <td>5</td>\n",
       "      <td>Copycat (1995)</td>\n",
       "    </tr>\n",
       "  </tbody>\n",
       "</table>\n",
       "</div>"
      ],
      "text/plain": [
       "   item_id              title\n",
       "0        1   Toy Story (1995)\n",
       "1        2   GoldenEye (1995)\n",
       "2        3  Four Rooms (1995)\n",
       "3        4  Get Shorty (1995)\n",
       "4        5     Copycat (1995)"
      ]
     },
     "execution_count": 57,
     "metadata": {},
     "output_type": "execute_result"
    }
   ],
   "source": [
    "movie_titles = pd.read_csv(\"Movie_Id_Titles\")\n",
    "movie_titles.head()"
   ]
  },
  {
   "cell_type": "code",
   "execution_count": 58,
   "metadata": {},
   "outputs": [
    {
     "data": {
      "text/html": [
       "<div>\n",
       "<style scoped>\n",
       "    .dataframe tbody tr th:only-of-type {\n",
       "        vertical-align: middle;\n",
       "    }\n",
       "\n",
       "    .dataframe tbody tr th {\n",
       "        vertical-align: top;\n",
       "    }\n",
       "\n",
       "    .dataframe thead th {\n",
       "        text-align: right;\n",
       "    }\n",
       "</style>\n",
       "<table border=\"1\" class=\"dataframe\">\n",
       "  <thead>\n",
       "    <tr style=\"text-align: right;\">\n",
       "      <th></th>\n",
       "      <th>user_id</th>\n",
       "      <th>item_id</th>\n",
       "      <th>rating</th>\n",
       "      <th>timestamp</th>\n",
       "      <th>title</th>\n",
       "    </tr>\n",
       "  </thead>\n",
       "  <tbody>\n",
       "    <tr>\n",
       "      <th>0</th>\n",
       "      <td>0</td>\n",
       "      <td>50</td>\n",
       "      <td>5</td>\n",
       "      <td>881250949</td>\n",
       "      <td>Star Wars (1977)</td>\n",
       "    </tr>\n",
       "    <tr>\n",
       "      <th>1</th>\n",
       "      <td>290</td>\n",
       "      <td>50</td>\n",
       "      <td>5</td>\n",
       "      <td>880473582</td>\n",
       "      <td>Star Wars (1977)</td>\n",
       "    </tr>\n",
       "    <tr>\n",
       "      <th>2</th>\n",
       "      <td>79</td>\n",
       "      <td>50</td>\n",
       "      <td>4</td>\n",
       "      <td>891271545</td>\n",
       "      <td>Star Wars (1977)</td>\n",
       "    </tr>\n",
       "    <tr>\n",
       "      <th>3</th>\n",
       "      <td>2</td>\n",
       "      <td>50</td>\n",
       "      <td>5</td>\n",
       "      <td>888552084</td>\n",
       "      <td>Star Wars (1977)</td>\n",
       "    </tr>\n",
       "    <tr>\n",
       "      <th>4</th>\n",
       "      <td>8</td>\n",
       "      <td>50</td>\n",
       "      <td>5</td>\n",
       "      <td>879362124</td>\n",
       "      <td>Star Wars (1977)</td>\n",
       "    </tr>\n",
       "  </tbody>\n",
       "</table>\n",
       "</div>"
      ],
      "text/plain": [
       "   user_id  item_id  rating  timestamp             title\n",
       "0        0       50       5  881250949  Star Wars (1977)\n",
       "1      290       50       5  880473582  Star Wars (1977)\n",
       "2       79       50       4  891271545  Star Wars (1977)\n",
       "3        2       50       5  888552084  Star Wars (1977)\n",
       "4        8       50       5  879362124  Star Wars (1977)"
      ]
     },
     "execution_count": 58,
     "metadata": {},
     "output_type": "execute_result"
    }
   ],
   "source": [
    "df = pd.merge(df,movie_titles,on='item_id')                  # merging datasets\n",
    "df.head()"
   ]
  },
  {
   "cell_type": "code",
   "execution_count": 59,
   "metadata": {},
   "outputs": [
    {
     "data": {
      "text/plain": [
       "(100003, 5)"
      ]
     },
     "execution_count": 59,
     "metadata": {},
     "output_type": "execute_result"
    }
   ],
   "source": [
    "df.shape"
   ]
  },
  {
   "cell_type": "code",
   "execution_count": 60,
   "metadata": {},
   "outputs": [
    {
     "data": {
      "text/plain": [
       "title\n",
       "Marlene Dietrich: Shadow and Light (1996)     5.0\n",
       "Prefontaine (1997)                            5.0\n",
       "Santa with Muscles (1996)                     5.0\n",
       "Star Kid (1997)                               5.0\n",
       "Someone Else's America (1995)                 5.0\n",
       "Name: rating, dtype: float64"
      ]
     },
     "execution_count": 60,
     "metadata": {},
     "output_type": "execute_result"
    }
   ],
   "source": [
    "df.groupby('title')['rating'].mean().sort_values(ascending=False).head()"
   ]
  },
  {
   "cell_type": "code",
   "execution_count": 61,
   "metadata": {},
   "outputs": [
    {
     "data": {
      "text/plain": [
       "60.09795673076923"
      ]
     },
     "execution_count": 61,
     "metadata": {},
     "output_type": "execute_result"
    }
   ],
   "source": [
    "df['title'].value_counts().reset_index()['title'].mean()"
   ]
  },
  {
   "cell_type": "code",
   "execution_count": 63,
   "metadata": {
    "collapsed": true
   },
   "outputs": [
    {
     "data": {
      "text/plain": [
       "Star Wars (1977)                                   True\n",
       "Contact (1997)                                     True\n",
       "Fargo (1996)                                       True\n",
       "Return of the Jedi (1983)                          True\n",
       "Liar Liar (1997)                                   True\n",
       "English Patient, The (1996)                        True\n",
       "Scream (1996)                                      True\n",
       "Toy Story (1995)                                   True\n",
       "Air Force One (1997)                               True\n",
       "Independence Day (ID4) (1996)                      True\n",
       "Raiders of the Lost Ark (1981)                     True\n",
       "Godfather, The (1972)                              True\n",
       "Pulp Fiction (1994)                                True\n",
       "Twelve Monkeys (1995)                              True\n",
       "Silence of the Lambs, The (1991)                   True\n",
       "Jerry Maguire (1996)                               True\n",
       "Chasing Amy (1997)                                 True\n",
       "Rock, The (1996)                                   True\n",
       "Empire Strikes Back, The (1980)                    True\n",
       "Star Trek: First Contact (1996)                    True\n",
       "Back to the Future (1985)                          True\n",
       "Titanic (1997)                                     True\n",
       "Mission: Impossible (1996)                         True\n",
       "Fugitive, The (1993)                               True\n",
       "Indiana Jones and the Last Crusade (1989)          True\n",
       "Willy Wonka and the Chocolate Factory (1971)       True\n",
       "Princess Bride, The (1987)                         True\n",
       "Forrest Gump (1994)                                True\n",
       "Saint, The (1997)                                  True\n",
       "Monty Python and the Holy Grail (1974)             True\n",
       "                                                   ... \n",
       "Victor/Victoria (1982)                             True\n",
       "Brady Bunch Movie, The (1995)                      True\n",
       "Don Juan DeMarco (1995)                            True\n",
       "Circle of Friends (1995)                           True\n",
       "Robin Hood: Prince of Thieves (1991)               True\n",
       "Wings of the Dove, The (1997)                      True\n",
       "Vegas Vacation (1997)                              True\n",
       "Winnie the Pooh and the Blustery Day (1968)        True\n",
       "Sgt. Bilko (1996)                                  True\n",
       "Breaking the Waves (1996)                          True\n",
       "Smoke (1995)                                       True\n",
       "Six Degrees of Separation (1993)                   True\n",
       "Big Sleep, The (1946)                              True\n",
       "She's the One (1996)                               True\n",
       "Heavy Metal (1981)                                 True\n",
       "Parent Trap, The (1961)                            True\n",
       "Brothers McMullen, The (1995)                      True\n",
       "Hoodlum (1997)                                     True\n",
       "20,000 Leagues Under the Sea (1954)                True\n",
       "Desperate Measures (1998)                          True\n",
       "Othello (1995)                                     True\n",
       "Seventh Seal, The (Sjunde inseglet, Det) (1957)    True\n",
       "Wedding Singer, The (1998)                         True\n",
       "Third Man, The (1949)                              True\n",
       "Angels and Insects (1995)                          True\n",
       "Things to Do in Denver when You're Dead (1995)     True\n",
       "Restoration (1995)                                 True\n",
       "Secret of Roan Inish, The (1994)                   True\n",
       "How to Make an American Quilt (1995)               True\n",
       "Diabolique (1996)                                  True\n",
       "Name: title, Length: 462, dtype: bool"
      ]
     },
     "execution_count": 63,
     "metadata": {},
     "output_type": "execute_result"
    }
   ],
   "source": [
    "x=df['title'].value_counts()>70\n",
    "x[x]"
   ]
  },
  {
   "cell_type": "code",
   "execution_count": 65,
   "metadata": {},
   "outputs": [
    {
     "data": {
      "text/plain": [
       "Index(['Star Wars (1977)', 'Contact (1997)', 'Fargo (1996)',\n",
       "       'Return of the Jedi (1983)', 'Liar Liar (1997)',\n",
       "       'English Patient, The (1996)', 'Scream (1996)', 'Toy Story (1995)',\n",
       "       'Air Force One (1997)', 'Independence Day (ID4) (1996)',\n",
       "       ...\n",
       "       'Othello (1995)', 'Seventh Seal, The (Sjunde inseglet, Det) (1957)',\n",
       "       'Wedding Singer, The (1998)', 'Third Man, The (1949)',\n",
       "       'Angels and Insects (1995)',\n",
       "       'Things to Do in Denver when You're Dead (1995)', 'Restoration (1995)',\n",
       "       'Secret of Roan Inish, The (1994)',\n",
       "       'How to Make an American Quilt (1995)', 'Diabolique (1996)'],\n",
       "      dtype='object', length=462)"
      ]
     },
     "execution_count": 65,
     "metadata": {},
     "output_type": "execute_result"
    }
   ],
   "source": [
    "y=x[x].index\n",
    "y"
   ]
  },
  {
   "cell_type": "code",
   "execution_count": 68,
   "metadata": {},
   "outputs": [],
   "source": [
    "new_list=df[df['title'].isin(y)]"
   ]
  },
  {
   "cell_type": "code",
   "execution_count": null,
   "metadata": {},
   "outputs": [],
   "source": []
  },
  {
   "cell_type": "code",
   "execution_count": 96,
   "metadata": {},
   "outputs": [
    {
     "data": {
      "text/plain": [
       "105.93538135593221"
      ]
     },
     "execution_count": 96,
     "metadata": {},
     "output_type": "execute_result"
    }
   ],
   "source": [
    "df['user_id'].value_counts().reset_index()['user_id'].mean()"
   ]
  },
  {
   "cell_type": "code",
   "execution_count": 110,
   "metadata": {},
   "outputs": [],
   "source": [
    "a=df['user_id'].value_counts()>100\n",
    "b=a[a].index"
   ]
  },
  {
   "cell_type": "code",
   "execution_count": 99,
   "metadata": {},
   "outputs": [],
   "source": [
    "new_list=new_list[new_list['user_id'].isin(b)]"
   ]
  },
  {
   "cell_type": "code",
   "execution_count": 100,
   "metadata": {},
   "outputs": [],
   "source": [
    "movie_pivot=new_list.pivot_table(columns='user_id',index='title',values='rating')"
   ]
  },
  {
   "cell_type": "code",
   "execution_count": 101,
   "metadata": {},
   "outputs": [],
   "source": [
    "movie_pivot.fillna(0,inplace=True)"
   ]
  },
  {
   "cell_type": "code",
   "execution_count": 102,
   "metadata": {},
   "outputs": [],
   "source": [
    "from scipy.sparse import csr_matrix\n",
    "movie_sparse=csr_matrix(movie_pivot)"
   ]
  },
  {
   "cell_type": "code",
   "execution_count": 103,
   "metadata": {},
   "outputs": [],
   "source": [
    "from sklearn.neighbors import NearestNeighbors      \n",
    "model=NearestNeighbors(algorithm='brute')"
   ]
  },
  {
   "cell_type": "code",
   "execution_count": 104,
   "metadata": {},
   "outputs": [
    {
     "data": {
      "text/plain": [
       "NearestNeighbors(algorithm='brute', leaf_size=30, metric='minkowski',\n",
       "         metric_params=None, n_jobs=None, n_neighbors=5, p=2, radius=1.0)"
      ]
     },
     "execution_count": 104,
     "metadata": {},
     "output_type": "execute_result"
    }
   ],
   "source": [
    "model.fit(movie_sparse)    # training the system"
   ]
  },
  {
   "cell_type": "code",
   "execution_count": 105,
   "metadata": {},
   "outputs": [],
   "source": [
    "# writing a function which takes in movie names and recommends similar movies\n",
    "\n",
    "\n",
    "def movie_recommend(movie_name):\n",
    "    movie_id=np.where(movie_pivot.index==movie_name)[0][0]\n",
    "    distances, suggestions=model.kneighbors(movie_pivot.iloc[movie_id,:].values.reshape(1,-1),n_neighbors=6)\n",
    "    \n",
    "    for i in range(len(suggestions)):\n",
    "        print(movie_pivot.index[suggestions[i]])"
   ]
  },
  {
   "cell_type": "code",
   "execution_count": 112,
   "metadata": {},
   "outputs": [
    {
     "name": "stdout",
     "output_type": "stream",
     "text": [
      "Index(['Godfather, The (1972)', 'Godfather: Part II, The (1974)',\n",
      "       'GoodFellas (1990)', 'Fargo (1996)', 'Taxi Driver (1976)',\n",
      "       'Apocalypse Now (1979)'],\n",
      "      dtype='object', name='title')\n"
     ]
    }
   ],
   "source": [
    "movie_recommend('Godfather, The (1972)')             # checking the code"
   ]
  },
  {
   "cell_type": "code",
   "execution_count": null,
   "metadata": {},
   "outputs": [],
   "source": []
  },
  {
   "cell_type": "code",
   "execution_count": null,
   "metadata": {},
   "outputs": [],
   "source": []
  }
 ],
 "metadata": {
  "kernelspec": {
   "display_name": "Python 3",
   "language": "python",
   "name": "python3"
  },
  "language_info": {
   "codemirror_mode": {
    "name": "ipython",
    "version": 3
   },
   "file_extension": ".py",
   "mimetype": "text/x-python",
   "name": "python",
   "nbconvert_exporter": "python",
   "pygments_lexer": "ipython3",
   "version": "3.7.6"
  }
 },
 "nbformat": 4,
 "nbformat_minor": 2
}
